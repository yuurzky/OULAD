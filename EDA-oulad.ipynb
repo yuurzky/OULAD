{
  "metadata": {
    "kernelspec": {
      "language": "python",
      "display_name": "Python 3",
      "name": "python3"
    },
    "language_info": {
      "pygments_lexer": "ipython3",
      "nbconvert_exporter": "python",
      "version": "3.6.4",
      "file_extension": ".py",
      "codemirror_mode": {
        "name": "ipython",
        "version": 3
      },
      "name": "python",
      "mimetype": "text/x-python"
    },
    "colab": {
      "provenance": []
    }
  },
  "nbformat_minor": 0,
  "nbformat": 4,
  "cells": [
    {
      "cell_type": "code",
      "source": [
        "# Importing Libraries\n",
        "\n",
        "import os\n",
        "import pandas as pd\n",
        "import numpy as np\n",
        "import seaborn as sns\n",
        "import matplotlib.pyplot as plt\n",
        "from sklearn.preprocessing import LabelEncoder\n",
        "from sklearn.preprocessing import StandardScaler\n",
        "pd.set_option('display.max_rows', 100, 'display.max_columns', 400)"
      ],
      "metadata": {
        "trusted": true,
        "id": "5gQlQVjpH0pX"
      },
      "execution_count": null,
      "outputs": []
    },
    {
      "cell_type": "markdown",
      "source": [
        "# IMPORTING DATA"
      ],
      "metadata": {
        "id": "SWTlssMyH0p3"
      }
    },
    {
      "cell_type": "code",
      "source": [
        "# Function to Load the file at specified path\n",
        "# Parameters :- 1. path :- path from where file should be I\n",
        "\n",
        "def Load_File(path) :\n",
        "    if os.path.isfile(path) :\n",
        "        data = pd.read_csv(path)\n",
        "        data = data.replace('?', np.nan)\n",
        "        print(\"\\n\" + \"Number of rows in data are %s\" % len(data))\n",
        "        print(\"Number of columns in data are %s\" % len(data.columns) + \"\\n\")\n",
        "        print(\"Following are the data types of columns:- \")\n",
        "        print(data.dtypes)\n",
        "        print(\"Number of missing values in the data are:- \")\n",
        "        print(data.isnull().sum())\n",
        "        print(\"Data Import is Complete\")\n",
        "        return data\n",
        "    else:\n",
        "        print(path + \" does not exist. Enter the correct path\")\n",
        "\n",
        "\n",
        "# Generalized Function to plot the counts\n",
        "# Parameters\n",
        "# 1. rotx  : rotation of ticks on x-axis\n",
        "# 2. roty  : rotation of ticks on y-axis\n",
        "# 3. fontx : font size of ticks on x-axis\n",
        "# 4. fonty : font size of ticks on y-axis\n",
        "# 5. column_name : Name of the column for which we need the count\n",
        "# 6. data_name   : Dataframe Used for plotting\n",
        "# 7. plot_size   : Size of the plot\n",
        "# 8. hue : If second column is needed for getting the count, the hue is True else False\n",
        "# 9. hue_column_name = Second Column for plotting\n",
        "\n",
        "\n",
        "def countplot(rotx, roty, fontx, fonty, column_name, data_name, plot_size = (10, 5), hue = False, hue_column_name=None):\n",
        "    plt.figure(figsize = plot_size)\n",
        "    plt.xticks(rotation=rotx, fontsize=fontx)\n",
        "    plt.yticks(rotation=roty, fontsize=fonty)\n",
        "    sns.set_style(\"whitegrid\")\n",
        "    if not hue:\n",
        "        sns.countplot(column_name, data=data_name, palette='husl',\n",
        "                      order = data_name[column_name].value_counts().index)\n",
        "    else:\n",
        "        sns.countplot(column_name, data=data_name,\n",
        "                      palette='husl', hue = hue_column_name,\n",
        "                      order = data_name[column_name].value_counts().index)\n",
        "    sns.despine()\n",
        "\n",
        "\n",
        "# Function to Encode the Categorical Data Columns\n",
        "# Parameters 1. df :- Dataframe 2. Column_name :- Feature to encode\n",
        "\n",
        "def categorical_encoding(df, column_name_list=[]):\n",
        "\n",
        "    for column_name in column_name_list:\n",
        "        print(df[column_name].unique())\n",
        "        categorical_columns = pd.get_dummies(df[column_name], prefix = column_name,\n",
        "                                             prefix_sep = '_', drop_first = False)\n",
        "        df = pd.concat([df, categorical_columns], axis = 1)\n",
        "        df = df.drop(column_name, axis = 1)\n",
        "    return df\n",
        "\n",
        "\n",
        "# Function to Label Encode the data\n",
        "# Parameters :- 1. data :- Dataframe 2. columns_list :- List of columns to label encode\n",
        "\n",
        "def labelEncoder(data, columns_list):\n",
        "    for col in columns_list:\n",
        "        encoder = LabelEncoder()\n",
        "        data[col]  = encoder.fit_transform(data[col])\n",
        "    return data\n",
        "\n",
        "\n",
        "# Function to plot stacked plot\n",
        "# Paramteres :-\n",
        "# data :- Dataframe used for plotting\n",
        "# column_one :- Column One to group by\n",
        "# column_two : Column Two to group by\n",
        "# agg_column : Column to count numbers\n",
        "\n",
        "def stacked_plot(data, column_one, column_two, agg_column, plot_size=(10, 5)):\n",
        "    pal     = sns.color_palette(\"colorblind\")\n",
        "    grouped = data.groupby([column_one, column_two])[agg_column].count()\n",
        "    grouped = grouped.groupby(level=0).apply(lambda x:100 * x / float(x.sum()))\n",
        "    grouped = grouped.unstack(column_two).fillna(0)\n",
        "    print(grouped)\n",
        "    unique_list = list(data[column_two].unique())\n",
        "    grouped[unique_list].plot(kind='bar', stacked=True, color=pal, figsize=plot_size)"
      ],
      "metadata": {
        "trusted": true,
        "id": "L04PCvMCH0qG"
      },
      "execution_count": null,
      "outputs": []
    },
    {
      "cell_type": "code",
      "source": [
        "\"\"\"LOADING ASSESSMENTS DATA\"\"\"\n",
        "\n",
        "# code_module          identification code of the module, to which the assessment belongs\n",
        "# code_presentation    identification code of the presentation, to which the assessment belongs\n",
        "# id_assessment        identification number of the assessment\n",
        "# assessment_type      type of assessment\n",
        "# date                 days information about the final submission date of the assessment calculated as the number of days\n",
        "#                      since the start of the module-presentation. The starting date of the presentation has number 0 (zero)\n",
        "# weight               weight of the assessment in %. Typically, Exams are treated separately and have the weight 100%\n",
        "#                      the sum of all other assessments is 100%\n",
        "\n",
        "oulad_assessment = Load_File('/kaggle/input/student-demographics-online-education-dataoulad/assessments.csv')"
      ],
      "metadata": {
        "trusted": true,
        "id": "hmN38AORH0rK"
      },
      "execution_count": null,
      "outputs": []
    },
    {
      "cell_type": "code",
      "source": [
        "oulad_assessment.head()"
      ],
      "metadata": {
        "trusted": true,
        "id": "FwdfReQrH0rM"
      },
      "execution_count": null,
      "outputs": []
    },
    {
      "cell_type": "code",
      "source": [
        "### Filling in the missing values with the mean of the number of days.\n",
        "\n",
        "oulad_assessment['date'] = oulad_assessment['date'].fillna(int(oulad_assessment['date'].astype(float).mean()))"
      ],
      "metadata": {
        "trusted": true,
        "id": "mIxCfqb1H0rd"
      },
      "execution_count": null,
      "outputs": []
    },
    {
      "cell_type": "code",
      "source": [
        "### There are 7 types of code_module\n",
        "\n",
        "oulad_assessment['code_module'].unique()"
      ],
      "metadata": {
        "trusted": true,
        "id": "M-LuvkKZH0re"
      },
      "execution_count": null,
      "outputs": []
    },
    {
      "cell_type": "code",
      "source": [
        "### There are 3 types of Assessment\n",
        "# TMA :- Tutor Marked Assessment\n",
        "# CMA :- Computer Marked Assessment\n",
        "# Exam :- Final Exam\n",
        "\n",
        "oulad_assessment['assessment_type'].unique()"
      ],
      "metadata": {
        "trusted": true,
        "id": "RN1-rJonH0rp"
      },
      "execution_count": null,
      "outputs": []
    },
    {
      "cell_type": "code",
      "source": [
        "### Below histogram shows us the range of for the number for days for final submission.\n",
        "\n",
        "plt.hist(oulad_assessment['date'].astype(int), bins=7)"
      ],
      "metadata": {
        "trusted": true,
        "id": "bV2d_u6dH0rt"
      },
      "execution_count": null,
      "outputs": []
    },
    {
      "cell_type": "code",
      "source": [
        "\"\"\"Loading Courses Data\"\"\"\n",
        "\n",
        "# code_module         name of the module, which serves as the identifier\n",
        "# code_presentation   name of the presentation. It consists of the year and B for the presentation\n",
        "#                     starting in February and J for the presentation starting in October\n",
        "# length              length of the module presentation in days\n",
        "\n",
        "oulad_courses = Load_File('/kaggle/input/student-demographics-online-education-dataoulad/courses.csv')"
      ],
      "metadata": {
        "trusted": true,
        "id": "bmohyHjrH0ru"
      },
      "execution_count": null,
      "outputs": []
    },
    {
      "cell_type": "code",
      "source": [
        "oulad_courses.head()"
      ],
      "metadata": {
        "scrolled": true,
        "trusted": true,
        "id": "lWTrJ_CmH0rw"
      },
      "execution_count": null,
      "outputs": []
    },
    {
      "cell_type": "code",
      "source": [
        "\"\"\"Loading Student Assessment Data\"\"\"\n",
        "\n",
        "# id_assessment            the identification number of the assessment\n",
        "# id_student               a unique identification number for the student\n",
        "# date_submitted           the date of student submission, measured as the number of days\n",
        "#.                         since the start of the module presentation\n",
        "# is_banked                a status flag indicating that the assessment result has been transferred from a previous presentation\n",
        "# score                    the studentís score in this assessment. The range is from 0 to 100. The score lower than 40 is\n",
        "#                          interpreted as Fail. The marks are in the range from 0 to 100\n",
        "\n",
        "oulad_student_assessment = Load_File('/kaggle/input/student-demographics-online-education-dataoulad/studentAssessment.csv')"
      ],
      "metadata": {
        "trusted": true,
        "id": "kYAfUfYdH0s0"
      },
      "execution_count": null,
      "outputs": []
    },
    {
      "cell_type": "code",
      "source": [
        "### As the number of missing values are very less as compared to the total data\n",
        "\n",
        "oulad_student_assessment = oulad_student_assessment.dropna()"
      ],
      "metadata": {
        "trusted": true,
        "id": "-IngyxkMH0tB"
      },
      "execution_count": null,
      "outputs": []
    },
    {
      "cell_type": "code",
      "source": [
        "oulad_student_assessment.head()"
      ],
      "metadata": {
        "trusted": true,
        "id": "4StdVpG8H0tU"
      },
      "execution_count": null,
      "outputs": []
    },
    {
      "cell_type": "code",
      "source": [
        "\"\"\"Loading Student Registration Data\"\"\"\n",
        "\n",
        "# code_module             an identification code for a module\n",
        "# code_presentation       the identification code of the presentation\n",
        "# id_student              a unique identification number for the student\n",
        "# date_registration       the date of student's registration on the module presentation, this is the number of days measured relative to\n",
        "#                         the start of the module-presentation (e.g. the negative value -30 means that the student registered to module\n",
        "#                         presentation 30 days before it started)\n",
        "# date_unregistration     date of student unregistration from the module presentation, this is the number of days measured relative to\n",
        "#                         the start of the module-presentation. Students, who completed the course have this field empty. Students who\n",
        "#                         unregistered have Withdrawal as the value of the final_result column in the studentInfo.csv file\n",
        "\n",
        "oulad_student_registration = Load_File('/kaggle/input/student-demographics-online-education-dataoulad/studentRegistration.csv')"
      ],
      "metadata": {
        "trusted": true,
        "id": "fi4eptJwH0th"
      },
      "execution_count": null,
      "outputs": []
    },
    {
      "cell_type": "code",
      "source": [
        "## From the description it is clear that if value is missing in column date_unregistration then that means student\n",
        "## completed the course and if it is null then student withdrawn from the course\n",
        "\n",
        "## 0 : 'COMPLETED'\n",
        "## 1 : 'WITHDRAWN'\n",
        "\n",
        "## There are very few missing values in the data_registration column. I replaced it with the 0\n",
        "\n",
        "oulad_student_registration['date_unregistration'] = ['0' if pd.isnull(days) else '1' for days in oulad_student_registration['date_unregistration']]\n",
        "oulad_student_registration['date_registration']   = oulad_student_registration['date_registration'].fillna(0).astype(float).apply(abs)\n"
      ],
      "metadata": {
        "trusted": true,
        "id": "mBz2MvprH0uE"
      },
      "execution_count": null,
      "outputs": []
    },
    {
      "cell_type": "code",
      "source": [
        "oulad_student_registration.head()"
      ],
      "metadata": {
        "trusted": true,
        "id": "Tsm3qs56H0uH"
      },
      "execution_count": null,
      "outputs": []
    },
    {
      "cell_type": "code",
      "source": [
        "\"\"\"Loading Student Information Data\"\"\"\n",
        "\n",
        "# code_module             an identification code for a module on which the student is registered\n",
        "# code_presentation       the identification code of the presentation during which the student is registered on the module\n",
        "# id_student              a unique identification number for the student\n",
        "# gender                  the studentís gender\n",
        "# region                  identifies the geographic region, where the student lived while taking the module-presentation\n",
        "# highest_education       highest student education level on entry to the module presentation\n",
        "# imd_band                specifies the Index of Multiple Depravation band of the place where the student lived during the module-presentation\n",
        "# age_band                band of the studentís age\n",
        "# num_of_prev_attempts    the number times the student has attempted this module\n",
        "# studied_credits         the total number of credits for the modules the student is currently studying\n",
        "# disability              indicates whether the student has declared a disability\n",
        "# final_result            studentís final result in the module-presentation\n",
        "\n",
        "oulad_student_info = Load_File('/kaggle/input/student-demographics-online-education-dataoulad/studentInfo.csv')"
      ],
      "metadata": {
        "trusted": true,
        "id": "JMQ6hRZdH0uI"
      },
      "execution_count": null,
      "outputs": []
    },
    {
      "cell_type": "code",
      "source": [
        "### There are missing values in the imd_band. As those represent then band in which they are, we can think of them\n",
        "### like a category and we can fill missing values with the mode\n",
        "\n",
        "print(oulad_student_info['imd_band'].unique())\n",
        "\n",
        "oulad_student_info['imd_band'] = oulad_student_info['imd_band'].fillna(oulad_student_info['imd_band'].mode()[0])"
      ],
      "metadata": {
        "trusted": true,
        "id": "U2Zi5wn0H0uT"
      },
      "execution_count": null,
      "outputs": []
    },
    {
      "cell_type": "code",
      "source": [
        "oulad_student_info.head()"
      ],
      "metadata": {
        "trusted": true,
        "id": "17_tMpppH0uV"
      },
      "execution_count": null,
      "outputs": []
    },
    {
      "cell_type": "code",
      "source": [
        "# code_module           an identification code for a module\n",
        "# code_presentation     the identification code of the module presentation\n",
        "# id_student            a unique identification number for the student\n",
        "# id_site               an identification number for the VLE material\n",
        "# date                  the date of studentís interaction with the material measured as the\n",
        "#                       number of days since the start of the module-presentation\n",
        "# sum_click             the number of times a student interacts with the material in that day\n",
        "\n",
        "oulad_student_vle = Load_File('/kaggle/input/student-demographics-online-education-dataoulad/studentVle.csv')"
      ],
      "metadata": {
        "trusted": true,
        "id": "xMOsyGRDH0uW"
      },
      "execution_count": null,
      "outputs": []
    },
    {
      "cell_type": "code",
      "source": [
        "oulad_student_vle.head()"
      ],
      "metadata": {
        "trusted": true,
        "id": "AEy1ID61H0uY"
      },
      "execution_count": null,
      "outputs": []
    },
    {
      "cell_type": "code",
      "source": [
        "\"\"\"Loading VLE data\"\"\"\n",
        "# id_site              an identification number of the material\n",
        "# code_module          an identification code for module\n",
        "# code_presentation    the identification code of presentation\n",
        "# activity_type        the role associated with the module material\n",
        "# week_from            the week from which the material is planned to be used\n",
        "# week_to              week until which the material is planned to be used\n",
        "\n",
        "oulad_vle = Load_File('/kaggle/input/student-demographics-online-education-dataoulad/vle.csv')"
      ],
      "metadata": {
        "trusted": true,
        "id": "EOTjUEFEH0uY"
      },
      "execution_count": null,
      "outputs": []
    },
    {
      "cell_type": "code",
      "source": [
        "### As we can see that there are close to 80% values which are missing in the week_from and week_to columns\n",
        "### So I will remove those columns\n",
        "\n",
        "oulad_vle = oulad_vle.drop(['week_from', 'week_to'], axis = 1)"
      ],
      "metadata": {
        "trusted": true,
        "id": "Qdg6V8ZVH0ua"
      },
      "execution_count": null,
      "outputs": []
    },
    {
      "cell_type": "code",
      "source": [
        "oulad_vle.head()"
      ],
      "metadata": {
        "trusted": true,
        "id": "8GFX853CH0x9"
      },
      "execution_count": null,
      "outputs": []
    },
    {
      "cell_type": "code",
      "source": [
        "### We can see from the plot that activity_type = 'resource' has the most data points in VLE table\n",
        "\n",
        "countplot(90, 0, 14, 10, 'activity_type', oulad_vle, plot_size=(15, 6))"
      ],
      "metadata": {
        "trusted": true,
        "id": "Y9HiPVVfH0x-"
      },
      "execution_count": null,
      "outputs": []
    },
    {
      "cell_type": "markdown",
      "source": [
        "# MERGING DATA\n",
        "\n",
        "#### In this step we will merge different dataframe which we loaded in the previous steps. Based on the database schema we will\n",
        "#### join the different tables\n",
        "\n",
        "Database schema.png![image.png](attachment:image.png)"
      ],
      "metadata": {
        "id": "j-r6Ny62H0x_"
      }
    },
    {
      "cell_type": "markdown",
      "source": [
        "###### In the first step I am merging studentVle table with the vle table. This can show us about the interactions of students with VLE."
      ],
      "metadata": {
        "id": "pflFoHNiH0yA"
      }
    },
    {
      "cell_type": "code",
      "source": [
        "student_vle_merge_vle = oulad_student_vle.merge(oulad_vle,\n",
        "                                                on=['id_site', 'code_module', 'code_presentation'],\n",
        "                                                how = 'left')"
      ],
      "metadata": {
        "trusted": true,
        "id": "0g9X5ae_H0yB"
      },
      "execution_count": null,
      "outputs": []
    },
    {
      "cell_type": "code",
      "source": [
        "## We can see that there are multiple interactions from a single student even before the course started. We can assume\n",
        "## that if student is interested in the course then that student will interact with the material of course before the\n",
        "## course starts\n",
        "\n",
        "## Number of clicks before the course can be an importtant factor which can help us determine whether student will\n",
        "## perform good or bad in the course. Therefore for each student we will calculate the number of clicks before and\n",
        "## after course went live\n",
        "\n",
        "student_vle_merge_vle[(student_vle_merge_vle['id_student']==28400) & (student_vle_merge_vle['date']<0)].head(10)"
      ],
      "metadata": {
        "trusted": true,
        "id": "6lJ3sKlVH0yB"
      },
      "execution_count": null,
      "outputs": []
    },
    {
      "cell_type": "code",
      "source": [
        "student_vle_merge_vle['Click_Timing'] = ['Before' if date < 0 else 'After' for date in student_vle_merge_vle['date']]"
      ],
      "metadata": {
        "trusted": true,
        "id": "5-VSnThjH0yR"
      },
      "execution_count": null,
      "outputs": []
    },
    {
      "cell_type": "code",
      "source": [
        "# Creating After clicks and Before Clicks columns based on the data\n",
        "\n",
        "student_vle_merge_vle['After_Clicks'] = np.where(student_vle_merge_vle['Click_Timing'] =='After',\n",
        "                                                 student_vle_merge_vle['sum_click'], 0)\n",
        "\n",
        "student_vle_merge_vle['Before_Clicks']= np.where(student_vle_merge_vle['Click_Timing'] =='Before',\n",
        "                                                 student_vle_merge_vle['sum_click'], 0)"
      ],
      "metadata": {
        "trusted": true,
        "id": "ROi4QBXhH0yc"
      },
      "execution_count": null,
      "outputs": []
    },
    {
      "cell_type": "code",
      "source": [
        "# Create a new dataframe by Grouping the columns\n",
        "\n",
        "student_vle_merge_vle_group = student_vle_merge_vle.groupby(['code_module',\n",
        "                                                             'code_presentation',\n",
        "                                                             'id_student']\n",
        "                                                            ,as_index=False)['sum_click', 'After_Clicks', 'Before_Clicks'].sum()"
      ],
      "metadata": {
        "scrolled": true,
        "trusted": true,
        "id": "nJXQms96H0yd"
      },
      "execution_count": null,
      "outputs": []
    },
    {
      "cell_type": "code",
      "source": [
        "student_vle_merge_vle_group.isnull().sum()"
      ],
      "metadata": {
        "trusted": true,
        "id": "ZeueYS8aH0ye"
      },
      "execution_count": null,
      "outputs": []
    },
    {
      "cell_type": "code",
      "source": [
        "### Plot describing the way students connect to VLE\n",
        "### We can see that most of the rows in the data are on ForumNG (Open University Forum Platform),\n",
        "### oucontent (Open University Content), subpage and homepage.\n",
        "\n",
        "countplot(90, 0, 15, 12, 'activity_type', student_vle_merge_vle, plot_size=(20, 7))"
      ],
      "metadata": {
        "trusted": true,
        "id": "GgX4_SZmH0yf"
      },
      "execution_count": null,
      "outputs": []
    },
    {
      "cell_type": "code",
      "source": [
        "# In this step I am plotting average interaction of student with each activity type.\n",
        "# We can see that most of the interactions are with the QUIZ, OUCONTENT, GLOSSARY, OUWIKI which is understandable as\n",
        "# student interact mostly with content to learn stuff and then use glossary to understand the study material. Also,\n",
        "# interactions with quiz is evident as after learning something, there are quizzes on the platform after completing chapters.\n",
        "\n",
        "plt.figure(figsize = (15, 5))\n",
        "plt.xticks(rotation=90, fontsize=15)\n",
        "plt.yticks(rotation=0, fontsize=12)\n",
        "sns.set_style(\"whitegrid\")\n",
        "student_vle_merge_vle.groupby(['activity_type'], as_index=True)['sum_click'].mean().sort_values(ascending=False).plot(kind='bar')\n"
      ],
      "metadata": {
        "trusted": true,
        "id": "CDYe04a3H0yf"
      },
      "execution_count": null,
      "outputs": []
    },
    {
      "cell_type": "code",
      "source": [
        "student_vle_merge_vle.head()"
      ],
      "metadata": {
        "trusted": true,
        "id": "MUPJ1hJcH0yg"
      },
      "execution_count": null,
      "outputs": []
    },
    {
      "cell_type": "markdown",
      "source": [
        "###### In this step I will merge studentRegistration table with the courses table to understand the related between registrations and length of course"
      ],
      "metadata": {
        "id": "mQmZSLDuH0yh"
      }
    },
    {
      "cell_type": "code",
      "source": [
        "student_registration_merge_courses = oulad_student_registration.merge(oulad_courses,\n",
        "                                                                      on = ['code_module', 'code_presentation'],\n",
        "                                                                      how = 'left')"
      ],
      "metadata": {
        "trusted": true,
        "id": "QQN63CUFH1LN"
      },
      "execution_count": null,
      "outputs": []
    },
    {
      "cell_type": "code",
      "source": [
        "student_registration_merge_courses['Year'] = student_registration_merge_courses['code_presentation'].str[0:4]\n",
        "student_registration_merge_courses['Starting_Month'] = ['February' if code[-1] == 'B' else 'October'\n",
        "                                                        for code in student_registration_merge_courses['code_presentation']]"
      ],
      "metadata": {
        "trusted": true,
        "id": "FoWwvs43H1r0"
      },
      "execution_count": null,
      "outputs": []
    },
    {
      "cell_type": "code",
      "source": [
        "student_registration_merge_courses"
      ],
      "metadata": {
        "trusted": true,
        "id": "JuR3QcdWH1vf"
      },
      "execution_count": null,
      "outputs": []
    },
    {
      "cell_type": "code",
      "source": [
        "# We can clearly see from the below plot that mMore registrations are in the month of October as compared to the month\n",
        "# of February. Also there are more people who drawn in the month of October.\n",
        "\n",
        "countplot(90, 0, 14, 10, 'Starting_Month', student_registration_merge_courses, plot_size=(8, 6), hue=True, hue_column_name='date_unregistration')\n"
      ],
      "metadata": {
        "trusted": true,
        "id": "3BW8L6FxH1v4"
      },
      "execution_count": null,
      "outputs": []
    },
    {
      "cell_type": "code",
      "source": [
        "### This plot shows us that there are more registrations in 2014 as compared to 2013\n",
        "\n",
        "countplot(90, 0, 14, 10, 'Year', student_registration_merge_courses, plot_size=(5, 5))"
      ],
      "metadata": {
        "trusted": true,
        "id": "UlIo6YvpH1wB"
      },
      "execution_count": null,
      "outputs": []
    },
    {
      "cell_type": "code",
      "source": [
        "# This plot shows us the count by year and then by data unregistration count\n",
        "\n",
        "countplot(90, 0, 14, 10, 'Year', student_registration_merge_courses, plot_size=(8, 6), hue=True, hue_column_name='date_unregistration')\n",
        "\n"
      ],
      "metadata": {
        "trusted": true,
        "id": "4ntoPCVIH1yF"
      },
      "execution_count": null,
      "outputs": []
    },
    {
      "cell_type": "code",
      "source": [
        "### From the below table we can see that course length doesn't have much difference for the student who withdrawn\n",
        "### and students who completed the course\n",
        "\n",
        "student_registration_merge_courses.groupby('date_unregistration', as_index=False)['module_presentation_length'].mean()"
      ],
      "metadata": {
        "trusted": true,
        "id": "Emgkxc2MH10c"
      },
      "execution_count": null,
      "outputs": []
    },
    {
      "cell_type": "markdown",
      "source": [
        "###### In this step I will merge assessments Table with the studentAssessment Table to understand the relationship between assessment and student performance"
      ],
      "metadata": {
        "id": "oYtZm6A1H10c"
      }
    },
    {
      "cell_type": "code",
      "source": [
        "student_assessment_merge_assessment = oulad_student_assessment.merge(oulad_assessment,\n",
        "                                                                     on = ['id_assessment'], how='left' )"
      ],
      "metadata": {
        "trusted": true,
        "id": "l42TOtG8H10m"
      },
      "execution_count": null,
      "outputs": []
    },
    {
      "cell_type": "code",
      "source": [
        "student_assessment_merge_assessment.dtypes"
      ],
      "metadata": {
        "trusted": true,
        "id": "3MqKhQALH10n"
      },
      "execution_count": null,
      "outputs": []
    },
    {
      "cell_type": "code",
      "source": [
        "# There would have been instances where students submitted their assignments later than the deadline. In this step,\n",
        "# using the date_submitted (days after student recieved their assignment) column and date (deadline in days for the assignment)\n",
        "# we can check whether their was a late submission or not (0 : Late, 1:OnTime)\n",
        "\n",
        "student_assessment_merge_assessment['Late_submission'] = ['0' if int(student_assessment_merge_assessment['date_submitted'].iloc[i])\n",
        "                                                          > int(student_assessment_merge_assessment['date'].iloc[i]) else '1'\n",
        "                                                         for i in range(len(student_assessment_merge_assessment))]\n"
      ],
      "metadata": {
        "trusted": true,
        "id": "_4klq4t9H10p"
      },
      "execution_count": null,
      "outputs": []
    },
    {
      "cell_type": "code",
      "source": [
        "print('Percentage of Late Submissions From Students are : ')\n",
        "print((len(student_assessment_merge_assessment[student_assessment_merge_assessment['Late_submission']=='0'])/len(student_assessment_merge_assessment)*100))\n",
        "print('We can see that approximately 30 percent of students submitted their assigments late')"
      ],
      "metadata": {
        "trusted": true,
        "id": "qoi1DcjmH10t"
      },
      "execution_count": null,
      "outputs": []
    },
    {
      "cell_type": "code",
      "source": [
        "# There are three types of assessments :- Tutor Marked Assessment (TMA), Computer Marked Assessment (CMA), Exams\n",
        "# Following Plot Shows us the Percentage of Late Submission by Assessment_Type\n",
        "# We can see that Most of the late submissions are for Final Exam and CMA which is Computer marked exam.\n",
        "# Tutor marked exams has the least late submissions\n",
        "\n",
        "stacked_plot(student_assessment_merge_assessment, 'assessment_type', 'Late_submission', 'id_student', plot_size=(10, 7))\n",
        "\n"
      ],
      "metadata": {
        "trusted": true,
        "id": "gVR2_P-nH116"
      },
      "execution_count": null,
      "outputs": []
    },
    {
      "cell_type": "code",
      "source": [
        "# There are 7 course modules. 4 are from STEM and 3 from Social Sciences\n",
        "# Social Sciences :- AAA, BBB, GGG\n",
        "# STEM :- CCC, DDD, EEE, FFF\n",
        "# We can see from the plot that most percentage of the late submissions are for Course BBB, CCC and DDD\n",
        "\n",
        "\n",
        "stacked_plot(student_assessment_merge_assessment, 'code_module', 'Late_submission', 'id_student', plot_size=(12, 8))"
      ],
      "metadata": {
        "trusted": true,
        "id": "Y-X5DSkUH12A"
      },
      "execution_count": null,
      "outputs": []
    },
    {
      "cell_type": "code",
      "source": [
        "## Creating a column for Social Science and STEM field\n",
        "\n",
        "student_assessment_merge_assessment['Code_Category'] = ['Social_Science' if student_assessment_merge_assessment['code_module'].iloc[i] in ['AAA', 'BBB', 'GGG']\n",
        "                                                        else 'STEM' for i in range(len(student_assessment_merge_assessment))]\n"
      ],
      "metadata": {
        "trusted": true,
        "id": "To28a9aeH14D"
      },
      "execution_count": null,
      "outputs": []
    },
    {
      "cell_type": "code",
      "source": [
        "## Social Science has more percentage of late submissions as compared to STEM\n",
        "\n",
        "\n",
        "stacked_plot(student_assessment_merge_assessment, 'Code_Category', 'Late_submission', 'id_student', plot_size=(8, 7))"
      ],
      "metadata": {
        "trusted": true,
        "id": "HpvRok6QH14V"
      },
      "execution_count": null,
      "outputs": []
    },
    {
      "cell_type": "code",
      "source": [
        "# As from the description of table we know that score less than 40 is considered as Fail and above that is pass\n",
        "\n",
        "\n",
        "student_assessment_merge_assessment['Result'] = ['Fail' if int(student_assessment_merge_assessment['score'].iloc[i]) < 40\n",
        "                                                        else 'Pass' for i in range(len(student_assessment_merge_assessment))]"
      ],
      "metadata": {
        "trusted": true,
        "id": "LOVklh-jH14Z"
      },
      "execution_count": null,
      "outputs": []
    },
    {
      "cell_type": "code",
      "source": [
        "# Following Plot shows us the Ratio of Pass and Fail students in the form of plot\n",
        "# Failure Rate in STEM is more as compared to Social Sciences\n",
        "\n",
        "stacked_plot(student_assessment_merge_assessment, 'Code_Category', 'Result', 'id_student', plot_size=(10, 7))"
      ],
      "metadata": {
        "trusted": true,
        "id": "KkIJ7uRTH2Op"
      },
      "execution_count": null,
      "outputs": []
    },
    {
      "cell_type": "code",
      "source": [
        "# We can see from the following plot that course DDD , CCC and BBB have the most failure rate. Out of the 3\n",
        "# courses 2 of them are from STEM.\n",
        "\n",
        "\n",
        "stacked_plot(student_assessment_merge_assessment, 'code_module', 'Result', 'id_student', plot_size=(15, 8))"
      ],
      "metadata": {
        "trusted": true,
        "id": "6ijRE0b8H2Oq"
      },
      "execution_count": null,
      "outputs": []
    },
    {
      "cell_type": "code",
      "source": [
        "## Weightage of Assignment can have impact on the submissions and Result of students. I categorized the weight into\n",
        "## Low, Medium and High Weightage.\n",
        "\n",
        "print(student_assessment_merge_assessment['weight'].unique())\n",
        "\n",
        "percentage_segment = []\n",
        "\n",
        "for percent in student_assessment_merge_assessment['weight']:\n",
        "    if percent <= 10:\n",
        "        percentage_segment.append('Low_Weightage')\n",
        "    elif percent > 10 and percent <= 30:\n",
        "        percentage_segment.append('Medium_Weightage')\n",
        "    else:\n",
        "        percentage_segment.append('High_Weightage')\n",
        "\n",
        "student_assessment_merge_assessment['Weigthage'] = percentage_segment"
      ],
      "metadata": {
        "trusted": true,
        "id": "BytA6eTcH2Oz"
      },
      "execution_count": null,
      "outputs": []
    },
    {
      "cell_type": "code",
      "source": [
        "# We can see that Medium and High Weightage Assessments have high failure rate as compared to low\n",
        "\n",
        "stacked_plot(student_assessment_merge_assessment, 'Weigthage', 'Result', 'id_student', plot_size=(8, 6))"
      ],
      "metadata": {
        "trusted": true,
        "id": "SBK8PrQhH2Pa"
      },
      "execution_count": null,
      "outputs": []
    },
    {
      "cell_type": "code",
      "source": [
        "# Following Plot shows the ratio of Pass and Fail in Late_submission.\n",
        "# We can clearly see that Late Submissions have more Failure Rate as compared to people who submit on time.\n",
        "\n",
        "stacked_plot(student_assessment_merge_assessment, 'Late_submission', 'Result', 'id_student', plot_size=(8, 6))"
      ],
      "metadata": {
        "trusted": true,
        "id": "nuu74DbfH2Pb"
      },
      "execution_count": null,
      "outputs": []
    },
    {
      "cell_type": "code",
      "source": [
        "student_assessment_merge_assessment.head()"
      ],
      "metadata": {
        "trusted": true,
        "id": "DPwGKpMAH2Pc"
      },
      "execution_count": null,
      "outputs": []
    },
    {
      "cell_type": "markdown",
      "source": [
        "###### MERGING VLE DATA WITH THE STUDENT INFO DATA"
      ],
      "metadata": {
        "id": "4JWKfWVWH2Pd"
      }
    },
    {
      "cell_type": "code",
      "source": [
        "student_info = oulad_student_info.merge(student_vle_merge_vle_group,\n",
        "                                        on = ['code_module', 'code_presentation', 'id_student'],\n",
        "                                        how = 'left')\n",
        "\n",
        "student_info['sum_click']     = student_info['sum_click'].fillna(student_info['sum_click'].mean())\n",
        "student_info['After_Clicks']  = student_info['After_Clicks'].fillna(student_info['After_Clicks'].mean())\n",
        "student_info['Before_Clicks'] = student_info['Before_Clicks'].fillna(student_info['Before_Clicks'].mean())"
      ],
      "metadata": {
        "scrolled": true,
        "trusted": true,
        "id": "SUiDzyQEH2Ph"
      },
      "execution_count": null,
      "outputs": []
    },
    {
      "cell_type": "code",
      "source": [
        "## In this plot I am trying to examine the relationship between number of clicks versus the result\n",
        "## We can clearly see from the plot that number of clicks is directly related to the result. Student who passed with\n",
        "## Distinction has significantly more clicks as compared to ones with result = PASS and there is a huge difference\n",
        "## between the students who failed or withdrawn as compared to the one's who passed with or without distinction\n",
        "\n",
        "plt.figure(figsize = (10, 5))\n",
        "plt.xticks(rotation=90, fontsize=15)\n",
        "plt.yticks(rotation=0, fontsize=12)\n",
        "sns.set_style(\"whitegrid\")\n",
        "student_info.groupby(['final_result'])['After_Clicks'].mean().sort_values(ascending = False).plot(kind='bar')"
      ],
      "metadata": {
        "trusted": true,
        "id": "uAFiJY7rH2Pi"
      },
      "execution_count": null,
      "outputs": []
    },
    {
      "cell_type": "code",
      "source": [
        "## Even from the clicks data before the course even started, we can see that more the clicks more are the chances\n",
        "## for student to pass.\n",
        "\n",
        "plt.figure(figsize = (10, 5))\n",
        "plt.xticks(rotation=90, fontsize=15)\n",
        "plt.yticks(rotation=0, fontsize=12)\n",
        "sns.set_style(\"whitegrid\")\n",
        "student_info.groupby(['final_result'])['Before_Clicks'].mean().sort_values(ascending = False).plot(kind='bar')"
      ],
      "metadata": {
        "trusted": true,
        "id": "n3fZk8b2H2Pm"
      },
      "execution_count": null,
      "outputs": []
    },
    {
      "cell_type": "code",
      "source": [
        "## People with less credits have more chances to pass with distinction or pass because they have to study less\n",
        "## People who withdrew has more average credits as compared to another.\n",
        "\n",
        "plt.figure(figsize = (10, 5))\n",
        "plt.xticks(rotation=90, fontsize=15)\n",
        "plt.yticks(rotation=0, fontsize=12)\n",
        "sns.set_style(\"whitegrid\")\n",
        "student_info.groupby(['final_result'])['studied_credits'].mean().sort_values(ascending = False).plot(kind='bar')"
      ],
      "metadata": {
        "trusted": true,
        "id": "B1mdmEQyH2Po"
      },
      "execution_count": null,
      "outputs": []
    },
    {
      "cell_type": "code",
      "source": [
        "plt.figure(figsize = (10, 5))\n",
        "plt.xticks(rotation=90, fontsize=15)\n",
        "plt.yticks(rotation=0, fontsize=12)\n",
        "sns.set_style(\"whitegrid\")\n",
        "student_info.groupby(['age_band'])['Before_Clicks'].mean().sort_values(ascending = False).plot(kind='bar')"
      ],
      "metadata": {
        "trusted": true,
        "id": "L86kWRAJH2Pp"
      },
      "execution_count": null,
      "outputs": []
    },
    {
      "cell_type": "code",
      "source": [
        "# Number of Clicks by imd_band.\n",
        "\n",
        "plt.figure(figsize = (10, 5))\n",
        "plt.xticks(rotation=90, fontsize=15)\n",
        "plt.yticks(rotation=0, fontsize=12)\n",
        "sns.set_style(\"whitegrid\")\n",
        "student_info.groupby(['imd_band'])['sum_click'].sum().sort_values(ascending = False).plot(kind='bar')"
      ],
      "metadata": {
        "trusted": true,
        "id": "Bh7upHoCH2Q-"
      },
      "execution_count": null,
      "outputs": []
    },
    {
      "cell_type": "code",
      "source": [
        "# We can see that Males have higher Click Rate as compared to the females\n",
        "\n",
        "plt.figure(figsize = (8, 5))\n",
        "plt.xticks(rotation=90, fontsize=15)\n",
        "plt.yticks(rotation=0, fontsize=12)\n",
        "sns.set_style(\"whitegrid\")\n",
        "student_info.groupby(['gender'])['sum_click'].sum().sort_values(ascending = False).plot(kind='bar')"
      ],
      "metadata": {
        "trusted": true,
        "id": "9r66i9qjH2Q_"
      },
      "execution_count": null,
      "outputs": []
    },
    {
      "cell_type": "code",
      "source": [
        "## Following plot shows us the number of students in each result category. Most of the data is in age band 0-55.\n",
        "## There are very few data points for age >= 55.\n",
        "## We can see that Failure and Withdrawn rate is greater in age_band 0-35\n",
        "\n",
        "print(student_info.groupby(['age_band', 'final_result'])['id_student'].count().sort_values(ascending = False))\n",
        "stacked_plot(student_info, 'age_band', 'final_result', 'id_student', plot_size=(10, 8))"
      ],
      "metadata": {
        "trusted": true,
        "id": "j0GgnHr4H2RA"
      },
      "execution_count": null,
      "outputs": []
    },
    {
      "cell_type": "code",
      "source": [
        "# We can see from the plot that Failure Rate and Withdrawal Rate is high in people who have NO FORMAL EDUCATION\n",
        "# and who have LOWER THAN A LEVEL EDUCATION\n",
        "# Failure Rate is lowest in people who has Post Graduation.\n",
        "\n",
        "\n",
        "stacked_plot(student_info, 'highest_education', 'final_result', 'id_student', plot_size=(10, 8))"
      ],
      "metadata": {
        "trusted": true,
        "id": "plkFshTOH2RB"
      },
      "execution_count": null,
      "outputs": []
    },
    {
      "cell_type": "code",
      "source": [
        "## We can see from the plot that most of the data is for people who have a level or lower level of education.\n",
        "## This will cause an imbalance when the feature is used in the model. So I will manipulate the feature and\n",
        "## create two categories. One with higher education and one with lower education.\n",
        "\n",
        "countplot(90, 0, 12, 10, 'highest_education', student_info)"
      ],
      "metadata": {
        "trusted": true,
        "id": "xZu2jtnvH2RS"
      },
      "execution_count": null,
      "outputs": []
    },
    {
      "cell_type": "code",
      "source": [
        "student_info['highest_education'].unique()"
      ],
      "metadata": {
        "trusted": true,
        "id": "Gu8HSSlXH2Ru"
      },
      "execution_count": null,
      "outputs": []
    },
    {
      "cell_type": "code",
      "source": [
        "## Manioulating the feature higher_education\n",
        "\n",
        "student_info['highest_education'] = [0 if education in ['A Level or Equivalent', 'Lower Than A Level', 'No Formal quals']\n",
        "                                    else 1 for education in student_info['highest_education']]\n"
      ],
      "metadata": {
        "trusted": true,
        "id": "MSz38ZXqH2Rw"
      },
      "execution_count": null,
      "outputs": []
    },
    {
      "cell_type": "code",
      "source": [
        "countplot(90, 0, 12, 10, 'highest_education', student_info, plot_size=(7, 6))"
      ],
      "metadata": {
        "trusted": true,
        "id": "By8ZAi2nH2Rx"
      },
      "execution_count": null,
      "outputs": []
    },
    {
      "cell_type": "code",
      "source": [
        "## We can see from the plot that students with lower education has higher failure rate than the ones who had higher education\n",
        "\n",
        "stacked_plot(student_info, 'highest_education', 'final_result', 'id_student', plot_size=(10, 8))"
      ],
      "metadata": {
        "trusted": true,
        "id": "jcKPsLUIH2Ry"
      },
      "execution_count": null,
      "outputs": []
    },
    {
      "cell_type": "code",
      "source": [
        "## We can see that Failure Rate and Withdrawal rate is similar in all the regions.\n",
        "\n",
        "stacked_plot(student_info, 'region', 'final_result', 'id_student', plot_size=(15, 8))"
      ],
      "metadata": {
        "trusted": true,
        "id": "V2oyofPFH2R-"
      },
      "execution_count": null,
      "outputs": []
    },
    {
      "cell_type": "code",
      "source": [
        "stacked_plot(student_info, 'imd_band', 'final_result', 'id_student', plot_size=(15, 8))"
      ],
      "metadata": {
        "trusted": true,
        "id": "zn-0rhJ0H2R_"
      },
      "execution_count": null,
      "outputs": []
    },
    {
      "cell_type": "code",
      "source": [
        "# We can see that Males are more in number as compared to females\n",
        "\n",
        "countplot(90, 0, 14, 10, 'gender', student_info, plot_size=(5, 5))"
      ],
      "metadata": {
        "trusted": true,
        "id": "IpK2bZG9H2SA"
      },
      "execution_count": null,
      "outputs": []
    },
    {
      "cell_type": "code",
      "source": [
        "## We can see that there is no difference between the Withdrawal Rates and Failure Rates for both the gender.\n",
        "\n",
        "stacked_plot(student_info, 'gender', 'final_result', 'id_student', plot_size=(10, 8))"
      ],
      "metadata": {
        "trusted": true,
        "id": "JLXZeGPIH2ga"
      },
      "execution_count": null,
      "outputs": []
    },
    {
      "cell_type": "code",
      "source": [
        "# Following plot shows us the results by disability.\n",
        "# Withdrawn Rate is more in People who are disable.\n",
        "\n",
        "\n",
        "stacked_plot(student_info, 'disability', 'final_result', 'id_student', plot_size=(15, 8))"
      ],
      "metadata": {
        "trusted": true,
        "id": "4DQBDIhUH2gq"
      },
      "execution_count": null,
      "outputs": []
    },
    {
      "cell_type": "markdown",
      "source": [
        "###### Combining Student Info with the Student Registration Table"
      ],
      "metadata": {
        "id": "p9abFTNEH2gr"
      }
    },
    {
      "cell_type": "code",
      "source": [
        "student_registration_merge_courses = student_registration_merge_courses.drop('date_unregistration', axis = 1)"
      ],
      "metadata": {
        "trusted": true,
        "id": "Ado2ibZ8H2ic"
      },
      "execution_count": null,
      "outputs": []
    },
    {
      "cell_type": "code",
      "source": [
        "student_info = student_info.merge(student_registration_merge_courses,\n",
        "                                 on = ['code_module', 'code_presentation', 'id_student'],\n",
        "                                 how = 'left')"
      ],
      "metadata": {
        "trusted": true,
        "id": "9k9xGYXHH2id"
      },
      "execution_count": null,
      "outputs": []
    },
    {
      "cell_type": "code",
      "source": [
        "## Following Plot shows us the Result by Session. Failure Rate is more in people who took the course in February.\n",
        "## Also withdrawn rate is slightly more in course starting in February.\n",
        "\n",
        "stacked_plot(student_info, 'Starting_Month', 'final_result', 'id_student', plot_size=(15, 8))"
      ],
      "metadata": {
        "trusted": true,
        "id": "LsFV7RDvH2lA"
      },
      "execution_count": null,
      "outputs": []
    },
    {
      "cell_type": "code",
      "source": [
        "## There are less people who registered in February as compared to October. But still the failure and withdrawn rate\n",
        "## is more for february. May be the students don't like content or the course in February.\n",
        "\n",
        "countplot(90, 0, 12, 10, 'Starting_Month', student_info, plot_size=(7, 6))"
      ],
      "metadata": {
        "trusted": true,
        "id": "0drfZJpoH2lC"
      },
      "execution_count": null,
      "outputs": []
    },
    {
      "cell_type": "code",
      "source": [
        "## We can clearly see from the plot that we have the least failure and withdrawn rate in the students who did not\n",
        "## took the course before or number of previous attempts are zero.\n",
        "\n",
        "stacked_plot(student_info, 'num_of_prev_attempts', 'final_result', 'id_student', plot_size=(15, 8))\n"
      ],
      "metadata": {
        "trusted": true,
        "id": "6e27bC2jH2lD"
      },
      "execution_count": null,
      "outputs": []
    },
    {
      "cell_type": "code",
      "source": [
        "# Most of the data is for zero attempts which cause imbalance in the feature. We need to collect more data for creating\n",
        "# balance in the feature. So instead of using this feature, we will manipulate the feature to create two categories only.\n",
        "# 0 and 1 where 0 show no previous attempts and 1 shows previous attempts.\n",
        "\n",
        "countplot(90, 0, 12, 10, 'num_of_prev_attempts', student_info, plot_size=(10, 8))"
      ],
      "metadata": {
        "trusted": true,
        "id": "TKusosiiH2lE"
      },
      "execution_count": null,
      "outputs": []
    },
    {
      "cell_type": "code",
      "source": [
        "student_info['num_of_prev_attempts'] = [0 if attempts == 0 else 1 for attempts in student_info['num_of_prev_attempts']]"
      ],
      "metadata": {
        "trusted": true,
        "id": "QUHrmksWH2lF"
      },
      "execution_count": null,
      "outputs": []
    },
    {
      "cell_type": "code",
      "source": [
        "## Still there is imbalance in the feature but it's better than the initial.\n",
        "\n",
        "countplot(90, 0, 12, 10, 'num_of_prev_attempts', student_info, plot_size=(7, 6))"
      ],
      "metadata": {
        "trusted": true,
        "id": "WPbgEAJzH2lH"
      },
      "execution_count": null,
      "outputs": []
    },
    {
      "cell_type": "code",
      "source": [
        "# We can clearly see that people with previous attempts have more failure and withdrawn rate.\n",
        "\n",
        "stacked_plot(student_info, 'num_of_prev_attempts', 'final_result', 'id_student', plot_size=(15, 8))"
      ],
      "metadata": {
        "trusted": true,
        "id": "tdJiqT4xH2lI"
      },
      "execution_count": null,
      "outputs": []
    },
    {
      "cell_type": "code",
      "source": [
        "## We can see that\n",
        "\n",
        "stacked_plot(student_info, 'code_module', 'final_result', 'id_student', plot_size=(15, 8))"
      ],
      "metadata": {
        "trusted": true,
        "id": "_LPJGKpwH2lS"
      },
      "execution_count": null,
      "outputs": []
    },
    {
      "cell_type": "code",
      "source": [
        "student_info['Code_Category'] = ['Social_Science' if student_info['code_module'].iloc[i] in ['AAA', 'BBB', 'GGG']\n",
        "                                 else 'STEM' for i in range(len(student_info))]"
      ],
      "metadata": {
        "trusted": true,
        "id": "90mTZP93H2mo"
      },
      "execution_count": null,
      "outputs": []
    },
    {
      "cell_type": "code",
      "source": [
        "## From the following plot we can see that Failure Rate is higher in Social Science and Withdrawn rate is higher in\n",
        "## STEM Courses.\n",
        "\n",
        "stacked_plot(student_info, 'Code_Category', 'final_result', 'id_student', plot_size=(15, 8))"
      ],
      "metadata": {
        "trusted": true,
        "id": "4IeqBIHZH2mr"
      },
      "execution_count": null,
      "outputs": []
    }
  ]
}